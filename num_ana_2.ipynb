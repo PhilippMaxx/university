{
  "nbformat": 4,
  "nbformat_minor": 0,
  "metadata": {
    "colab": {
      "name": "num_ana_2.ipynb",
      "provenance": [],
      "collapsed_sections": [],
      "authorship_tag": "ABX9TyNMycFnUy8L834TTyiOak6J",
      "include_colab_link": true
    },
    "kernelspec": {
      "name": "python3",
      "display_name": "Python 3"
    },
    "language_info": {
      "name": "python"
    }
  },
  "cells": [
    {
      "cell_type": "markdown",
      "metadata": {
        "id": "view-in-github",
        "colab_type": "text"
      },
      "source": [
        "<a href=\"https://colab.research.google.com/github/PhilippMaxx/university/blob/main/num_ana_2.ipynb\" target=\"_parent\"><img src=\"https://colab.research.google.com/assets/colab-badge.svg\" alt=\"Open In Colab\"/></a>"
      ]
    },
    {
      "cell_type": "code",
      "source": [
        "import numpy as np\n",
        "from numpy.linalg import eig, inv, matrix_power"
      ],
      "metadata": {
        "id": "vi1JNcT3iNiw"
      },
      "execution_count": null,
      "outputs": []
    },
    {
      "cell_type": "code",
      "execution_count": null,
      "metadata": {
        "id": "rgUzpfGpiDhZ"
      },
      "outputs": [],
      "source": [
        "# exercise 3(1)\n",
        "# Q is tridiagonal and Toeplitz matrix (all diags have unique value)\n",
        "# closed formular for eigenvalues: a+2sqrt(bc)*cos((k*pi)/(n+1))\n",
        "# therefore eigvalues are 2 + 2 * cos(pi*k/(n+1)) in [0,4]."
      ]
    },
    {
      "cell_type": "code",
      "source": [
        "# exercise 3(2)\n",
        "# n was prbobably meant here, as Q is symmetric matrix\n",
        "def q(n: int) -> np.ndarray:\n",
        "  return np.diag([-1]*(n-1), -1) + np.diag([2]*n, 0) + np.diag([-1]*(n-1), 1)"
      ],
      "metadata": {
        "id": "Oy3hm3VOiQp-"
      },
      "execution_count": null,
      "outputs": []
    },
    {
      "cell_type": "code",
      "source": [
        "q(5)"
      ],
      "metadata": {
        "colab": {
          "base_uri": "https://localhost:8080/"
        },
        "id": "EWKN6ok0pGX0",
        "outputId": "17c9fffc-c3c6-4a43-92d3-cb97b75a5876"
      },
      "execution_count": null,
      "outputs": [
        {
          "output_type": "execute_result",
          "data": {
            "text/plain": [
              "array([[ 2, -1,  0,  0,  0],\n",
              "       [-1,  2, -1,  0,  0],\n",
              "       [ 0, -1,  2, -1,  0],\n",
              "       [ 0,  0, -1,  2, -1],\n",
              "       [ 0,  0,  0, -1,  2]])"
            ]
          },
          "metadata": {},
          "execution_count": 33
        }
      ]
    },
    {
      "cell_type": "code",
      "source": [
        "# exercise 3(3)\n",
        "# Qx = b was prob meant\n",
        "n = 20\n",
        "b = np.ones(n)\n",
        "D = np.diag([2]*n, 0)\n",
        "L = np.diag([-1]*(n-1), -1)\n",
        "U = np.diag([-1]*(n-1), 1)\n",
        "\n",
        "T = np.matmul(-inv(D+L), U)\n",
        "\n",
        "# choose any x_0\n",
        "x_k = np.random.random(n)\n",
        "\n",
        "# do 200 interations\n",
        "for i in range(200):\n",
        "  x_k = np.matmul(T, x_k)\n",
        "\n",
        "print(np.mean(np.abs(x_k, np.matmul(T, x_k))))\n",
        "\n",
        "x_k = np.random.random(n)\n",
        "eps = 1e-10\n",
        "iter = 0\n",
        "while np.mean(np.abs(x_k, np.matmul(T, x_k))) >= eps:\n",
        "  x_k = np.matmul(T, x_k)\n",
        "  iter += 1\n",
        "\n",
        "print(iter)"
      ],
      "metadata": {
        "colab": {
          "base_uri": "https://localhost:8080/"
        },
        "id": "AkzqwGpqli65",
        "outputId": "3d2e6815-f2f3-4742-c017-cb64ae5b7942"
      },
      "execution_count": null,
      "outputs": [
        {
          "output_type": "stream",
          "name": "stdout",
          "text": [
            "0.004424532753456353\n",
            "992\n"
          ]
        }
      ]
    },
    {
      "cell_type": "code",
      "source": [
        "# exercise 5(1)\n",
        "def C_p(n: int, p: int) -> np.ndarray:\n",
        "  D = np.diag([2]*n, 0)\n",
        "  N =  -q(n) + D\n",
        "  sum_ = np.sum(\n",
        "      [\n",
        "       matrix_power(np.matmul(N, inv(D)), k) \n",
        "       for k in range(p+1)\n",
        "       ], axis=0)\n",
        "  return np.matmul(inv(D), sum_)"
      ],
      "metadata": {
        "id": "pxWSVLNSk5u4"
      },
      "execution_count": null,
      "outputs": []
    },
    {
      "cell_type": "code",
      "source": [
        "# exercise 5(2)\n",
        "# spectral condition number: \n",
        "# K_2(A) := lambda_max(A) * lambda_max(A^-1)\n",
        "def cond_num_p(n: int, p: int = 10):\n",
        "  print('p: | K_2:')\n",
        "  for i in range(p+1):\n",
        "    C_p_Q = np.matmul(C_p(n, i), q(n))\n",
        "    K_2 = np.max(eig(C_p_Q)[0]) * np.max(eig(inv(C_p_Q))[0])\n",
        "    print(f\"{i:2d} | {K_2}\")\n"
      ],
      "metadata": {
        "id": "MQeRQWTDr3kD"
      },
      "execution_count": null,
      "outputs": []
    },
    {
      "cell_type": "code",
      "source": [
        "# cond. num. is converging to zero\n",
        "cond_num_p(3,10)"
      ],
      "metadata": {
        "colab": {
          "base_uri": "https://localhost:8080/"
        },
        "id": "EB0Qmz7Dq7ru",
        "outputId": "e1c7e0eb-d7e5-4923-aaab-feb45a376c0d"
      },
      "execution_count": null,
      "outputs": [
        {
          "output_type": "stream",
          "name": "stdout",
          "text": [
            "p: | K_2:\n",
            " 0 | 5.828427124746183\n",
            " 1 | 2.0\n",
            " 2 | 2.093836321356051\n",
            " 3 | 1.3333333333333333\n",
            " 4 | 1.4294744677091855\n",
            " 5 | 1.142857142857143\n",
            " 6 | 1.1939166692753505\n",
            " 7 | 1.0666666666666667\n",
            " 8 | 1.092475213299293\n",
            " 9 | 1.032258064516129\n",
            "10 | 1.0451928031225588\n"
          ]
        }
      ]
    },
    {
      "cell_type": "code",
      "source": [
        "cond_num_p(10,30)"
      ],
      "metadata": {
        "colab": {
          "base_uri": "https://localhost:8080/"
        },
        "id": "kvhS-L0atC9o",
        "outputId": "db47917a-8463-43b8-ce00-fa38e5ca0503"
      },
      "execution_count": null,
      "outputs": [
        {
          "output_type": "stream",
          "name": "stdout",
          "text": [
            "p: | K_2:\n",
            " 0 | 48.37415007870823\n",
            " 1 | 12.34353751967707\n",
            " 2 | 16.143089362733395\n",
            " 3 | 6.556993654305894\n",
            " 4 | 9.707885759675388\n",
            " 5 | 4.551221031308876\n",
            " 6 | 6.957783136961895\n",
            " 7 | 3.550469773509864\n",
            " 8 | 5.436022567531327\n",
            " 9 | 2.952723690048184\n",
            "10 | 4.472572241856642\n",
            "11 | 2.5564840287379993\n",
            "12 | 3.8097221032059743\n",
            "13 | 2.275376769017767\n",
            "14 | 3.327202796887075\n",
            "15 | 2.066212472511072\n",
            "16 | 2.9613383209914934\n",
            "17 | 1.90499514926516\n",
            "18 | 2.6752601765236026\n",
            "19 | 1.7773256010864382\n",
            "20 | 2.4461420162942358\n",
            "21 | 1.6740393068479238\n",
            "22 | 2.2590944879495773\n",
            "23 | 1.589025370049824\n",
            "24 | 2.103990561397088\n",
            "25 | 1.518052110060782\n",
            "26 | 1.9737018292002828\n",
            "27 | 1.4580959747083175\n",
            "28 | 1.8630646196101521\n",
            "29 | 1.4069388904477156\n",
            "30 | 1.7682463285013912\n"
          ]
        }
      ]
    },
    {
      "cell_type": "code",
      "source": [
        ""
      ],
      "metadata": {
        "id": "jy2PfS5ZvRoj"
      },
      "execution_count": null,
      "outputs": []
    }
  ]
}